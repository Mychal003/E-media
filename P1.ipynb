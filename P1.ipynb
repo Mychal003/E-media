{
 "cells": [
  {
   "cell_type": "markdown",
   "id": "074f1271",
   "metadata": {},
   "source": [
    "## Importowanie bibliotek"
   ]
  },
  {
   "cell_type": "code",
   "execution_count": 10,
   "id": "a9a2eb5d",
   "metadata": {},
   "outputs": [],
   "source": [
    "import struct\n",
    "import zlib\n",
    "import numpy as np\n",
    "import matplotlib.pyplot as plt\n",
    "from PIL import Image\n",
    "import os"
   ]
  },
  {
   "cell_type": "markdown",
   "id": "51531d1f",
   "metadata": {},
   "source": [
    "## Funkcje do analizy PNG"
   ]
  },
  {
   "cell_type": "code",
   "execution_count": 11,
   "id": "189879cc",
   "metadata": {},
   "outputs": [],
   "source": [
    "def czytaj_png(nazwa_pliku):\n",
    "    \"\"\"Czyta plik PNG i zwraca listę chunków\"\"\"\n",
    "    chunki = []\n",
    "    \n",
    "    with open(nazwa_pliku, 'rb') as plik:\n",
    "        \n",
    "        plik.read(8)\n",
    "        \n",
    "        # Czytaj chunki\n",
    "        while True:\n",
    "            # Długość chunka (4 bajty)\n",
    "            dlugosc_bajty = plik.read(4)\n",
    "            if not dlugosc_bajty:\n",
    "                break\n",
    "                \n",
    "            dlugosc = struct.unpack('>I', dlugosc_bajty)[0]\n",
    "            \n",
    "            # Typ chunka (4 bajty)\n",
    "            typ = plik.read(4).decode('ascii')\n",
    "            \n",
    "            # Dane chunka\n",
    "            dane = plik.read(dlugosc)\n",
    "            \n",
    "            # CRC (4 bajty)\n",
    "            crc = struct.unpack('>I', plik.read(4))[0]\n",
    "            \n",
    "            chunki.append({\n",
    "                'typ': typ,\n",
    "                'dlugosc': dlugosc,\n",
    "                'dane': dane,\n",
    "                'crc': crc\n",
    "            })\n",
    "            \n",
    "            if typ == 'IEND':\n",
    "                break\n",
    "                \n",
    "    return chunki"
   ]
  },
  {
   "cell_type": "markdown",
   "id": "cb60b4fc",
   "metadata": {},
   "source": [
    "## Wyświetlanie informacji o chunkach"
   ]
  },
  {
   "cell_type": "code",
   "execution_count": 12,
   "id": "cdc7c052",
   "metadata": {},
   "outputs": [],
   "source": [
    "def pokaz_chunki(chunki):\n",
    "    \"\"\"Wyświetla informacje o chunkach\"\"\"\n",
    "    print(\"=== CHUNKI W PLIKU PNG ===\\n\")\n",
    "    \n",
    "    critical = ['IHDR', 'PLTE', 'IDAT', 'IEND']\n",
    "    \n",
    "    for chunk in chunki:\n",
    "        print(f\"Typ: {chunk['typ']}\")\n",
    "        print(f\"Długość: {chunk['dlugosc']} bajtów\")\n",
    "        \n",
    "        # Dla IHDR pokaż szczegóły\n",
    "        if chunk['typ'] == 'IHDR':\n",
    "            dane = chunk['dane']\n",
    "            szerokosc = struct.unpack('>I', dane[0:4])[0]\n",
    "            wysokosc = struct.unpack('>I', dane[4:8])[0]\n",
    "            glebia_bitowa = dane[8]\n",
    "            typ_koloru = dane[9]\n",
    "            kompresja = dane[10]\n",
    "            filtrowanie = dane[11]\n",
    "            interlace = dane[12]\n",
    "            \n",
    "            print(f\"  Szerokość: {szerokosc} px\")\n",
    "            print(f\"  Wysokość: {wysokosc} px\")\n",
    "            print(f\"  Głębia bitowa: {glebia_bitowa}\")\n",
    "            print(f\"  Typ koloru: {typ_koloru}\")\n",
    "            print(f\"  Metoda kompresji: {kompresja}\")\n",
    "            print(f\"  Metoda filtrowania: {filtrowanie}\")\n",
    "            print(f\"  Interlace: {interlace}\")\n",
    "            \n",
    "        # Dodaj informacje o innych critical chunks\n",
    "        elif chunk['typ'] == 'PLTE':\n",
    "            liczba_kolorow = chunk['dlugosc'] // 3\n",
    "            print(f\"  Liczba kolorów w palecie: {liczba_kolorow}\")\n",
    "            \n",
    "        elif chunk['typ'] == 'IDAT':\n",
    "            print(f\"  Skompresowane dane obrazu\")\n",
    "            \n",
    "        elif chunk['typ'] == 'IEND':\n",
    "            print(f\"  Znacznik końca pliku (pusty)\")\n",
    "        \n",
    "        if chunk['typ'] in critical:\n",
    "            print(\"  [CHUNK OBOWIĄZKOWY]\")\n",
    "        else:\n",
    "            print(\"  [CHUNK DODATKOWY]\")\n",
    "            \n",
    "        print(\"-\" * 30)"
   ]
  },
  {
   "cell_type": "markdown",
   "id": "fc6e04fb",
   "metadata": {},
   "source": [
    "## Wyświetlanie obrazu"
   ]
  },
  {
   "cell_type": "code",
   "execution_count": 13,
   "id": "d81b3a4a",
   "metadata": {},
   "outputs": [],
   "source": [
    "def pokaz_obraz(nazwa_pliku):\n",
    "    \"\"\"Wyświetla obraz PNG\"\"\"\n",
    "    obraz = Image.open(nazwa_pliku)\n",
    "    \n",
    "    plt.figure(figsize=(8, 6))\n",
    "    plt.imshow(obraz)\n",
    "    plt.title(\"Obraz PNG\")\n",
    "    plt.axis('off')\n",
    "    plt.show()"
   ]
  },
  {
   "cell_type": "markdown",
   "id": "1df0f35a",
   "metadata": {},
   "source": [
    "## Transformacja Fouriera"
   ]
  },
  {
   "cell_type": "code",
   "execution_count": 14,
   "id": "aaa67ada",
   "metadata": {},
   "outputs": [],
   "source": [
    "def transformacja_fouriera(nazwa_pliku):\n",
    "    \"\"\"Wykonuje i wyświetla transformację Fouriera\"\"\"\n",
    "    # Wczytaj obraz jako czarno-biały\n",
    "    obraz = Image.open(nazwa_pliku).convert('L')\n",
    "    obraz_tablica = np.array(obraz)\n",
    "    \n",
    "    # Wykonaj FFT\n",
    "    fft = np.fft.fft2(obraz_tablica)\n",
    "    fft_przesuniete = np.fft.fftshift(fft)\n",
    "    \n",
    "    # Widmo amplitudowe\n",
    "    widmo = np.abs(fft_przesuniete)\n",
    "    #widmo_log = np.log(widmo + 1)\n",
    "    widmo_log = 20 * np.log(widmo + 1)\n",
    "    \n",
    "    # Wyświetl\n",
    "    plt.figure(figsize=(12, 4))\n",
    "    \n",
    "    plt.subplot(1, 3, 1)\n",
    "    plt.imshow(obraz_tablica, cmap='gray')\n",
    "    plt.title('Obraz oryginalny')\n",
    "    plt.axis('off')\n",
    "    \n",
    "    plt.subplot(1, 3, 2)\n",
    "    plt.imshow(widmo_log, cmap='gray')\n",
    "    plt.title('Widmo Fouriera')\n",
    "    plt.axis('off')\n",
    "    \n",
    "    # Test - odwrotna transformacja\n",
    "    obraz_odtworzony = np.fft.ifft2(fft)\n",
    "    obraz_odtworzony = np.real(obraz_odtworzony)\n",
    "    \n",
    "    plt.subplot(1, 3, 3)\n",
    "    plt.imshow(obraz_odtworzony, cmap='gray')\n",
    "    plt.title('Obraz odtworzony (test)')\n",
    "    plt.axis('off')\n",
    "    \n",
    "    plt.show()\n",
    "    \n",
    "    # Sprawdź błąd\n",
    "    blad = np.mean(np.abs(obraz_tablica - obraz_odtworzony))\n",
    "    print(f\"Błąd rekonstrukcji: {blad:.10f}\")\n",
    "    if blad < 0.0001:\n",
    "        print(\"Transformacja działa poprawnie!\")"
   ]
  },
  {
   "cell_type": "markdown",
   "id": "94298220",
   "metadata": {},
   "source": [
    "## Anonimizacja"
   ]
  },
  {
   "cell_type": "code",
   "execution_count": 15,
   "id": "cec16c61",
   "metadata": {},
   "outputs": [],
   "source": [
    "def anonimizuj(nazwa_pliku, nazwa_wyjsciowa):\n",
    "    \"\"\"Usuwa dodatkowe chunki z pliku PNG\"\"\"\n",
    "    critical = ['IHDR', 'PLTE', 'IDAT', 'IEND']\n",
    "    \n",
    "    with open(nazwa_pliku, 'rb') as wejscie:\n",
    "        with open(nazwa_wyjsciowa, 'wb') as wyjscie:\n",
    "            # Skopiuj sygnaturę\n",
    "            sygnatura = wejscie.read(8)\n",
    "            wyjscie.write(sygnatura)\n",
    "            \n",
    "            # Czytaj i filtruj chunki\n",
    "            chunki = czytaj_png(nazwa_pliku)\n",
    "            \n",
    "            usuniete = 0\n",
    "            for chunk in chunki:\n",
    "                if chunk['typ'] in critical:\n",
    "                    # Zapisz chunk\n",
    "                    wyjscie.write(struct.pack('>I', chunk['dlugosc']))\n",
    "                    wyjscie.write(chunk['typ'].encode('ascii'))\n",
    "                    wyjscie.write(chunk['dane'])\n",
    "                    wyjscie.write(struct.pack('>I', chunk['crc']))\n",
    "                else:\n",
    "                    usuniete += 1\n",
    "            \n",
    "    print(f\"Usunięto {usuniete} dodatkowych chunków\")\n",
    "    print(f\"Plik zapisany jako: {nazwa_wyjsciowa}\")"
   ]
  },
  {
   "cell_type": "markdown",
   "id": "85409323",
   "metadata": {},
   "source": [
    "## Główna analiza"
   ]
  },
  {
   "cell_type": "code",
   "execution_count": 16,
   "id": "d4facf40",
   "metadata": {},
   "outputs": [
    {
     "name": "stdout",
     "output_type": "stream",
     "text": [
      "=== ANALIZA PLIKU PNG ===\n",
      "\n",
      "=== CHUNKI W PLIKU PNG ===\n",
      "\n",
      "Typ: IHDR\n",
      "Długość: 13 bajtów\n",
      "  Szerokość: 256 px\n",
      "  Wysokość: 256 px\n",
      "  Głębia bitowa: 8\n",
      "  Typ koloru: 6\n",
      "  Metoda kompresji: 0\n",
      "  Metoda filtrowania: 0\n",
      "  Interlace: 0\n",
      "  [CHUNK OBOWIĄZKOWY]\n",
      "------------------------------\n",
      "Typ: sRGB\n",
      "Długość: 1 bajtów\n",
      "  [CHUNK DODATKOWY]\n",
      "------------------------------\n",
      "Typ: gAMA\n",
      "Długość: 4 bajtów\n",
      "  [CHUNK DODATKOWY]\n",
      "------------------------------\n",
      "Typ: pHYs\n",
      "Długość: 9 bajtów\n",
      "  [CHUNK DODATKOWY]\n",
      "------------------------------\n",
      "Typ: IDAT\n",
      "Długość: 891 bajtów\n",
      "  Skompresowane dane obrazu\n",
      "  [CHUNK OBOWIĄZKOWY]\n",
      "------------------------------\n",
      "Typ: IEND\n",
      "Długość: 0 bajtów\n",
      "  Znacznik końca pliku (pusty)\n",
      "  [CHUNK OBOWIĄZKOWY]\n",
      "------------------------------\n",
      "\n",
      "=== OBRAZ ===\n"
     ]
    },
    {
     "data": {
      "image/png": "[encoded data removed]",
      "text/plain": [
       "<Figure size 800x600 with 1 Axes>"
      ]
     },
     "metadata": {},
     "output_type": "display_data"
    },
    {
     "name": "stdout",
     "output_type": "stream",
     "text": [
      "\n",
      "=== TRANSFORMACJA FOURIERA ===\n"
     ]
    },
    {
     "data": {
      "image/png": "[encoded data removed]",
      "text/plain": [
       "<Figure size 1200x400 with 3 Axes>"
      ]
     },
     "metadata": {},
     "output_type": "display_data"
    },
    {
     "name": "stdout",
     "output_type": "stream",
     "text": [
      "Błąd rekonstrukcji: 0.0000000000\n",
      "Transformacja działa poprawnie!\n",
      "\n",
      "=== ANONIMIZACJA ===\n",
      "Usunięto 3 dodatkowych chunków\n",
      "Plik zapisany jako: synthetic_image_anonim.png\n",
      "\n",
      "Rozmiar oryginalny: 998 bajtów\n",
      "Rozmiar po anonimizacji: 948 bajtów\n",
      "Różnica: 50 bajtów\n"
     ]
    }
   ],
   "source": [
    "# TUTAJ WPISZ NAZWĘ SWOJEGO PLIKU PNG\n",
    "nazwa_pliku = 'synthetic_image.png'\n",
    "\n",
    "print(\"=== ANALIZA PLIKU PNG ===\\n\")\n",
    "\n",
    "# 1. Czytaj chunki\n",
    "chunki = czytaj_png(nazwa_pliku)\n",
    "\n",
    "# 2. Pokaż informacje\n",
    "pokaz_chunki(chunki)\n",
    "\n",
    "# 3. Wyświetl obraz\n",
    "print(\"\\n=== OBRAZ ===\")\n",
    "pokaz_obraz(nazwa_pliku)\n",
    "\n",
    "# 4. Transformacja Fouriera\n",
    "print(\"\\n=== TRANSFORMACJA FOURIERA ===\")\n",
    "transformacja_fouriera(nazwa_pliku)\n",
    "\n",
    "# 5. Anonimizacja\n",
    "print(\"\\n=== ANONIMIZACJA ===\")\n",
    "nazwa_anonimizowana = nazwa_pliku.replace('.png', '_anonim.png')\n",
    "anonimizuj(nazwa_pliku, nazwa_anonimizowana)\n",
    "\n",
    "# 6. Porównaj rozmiary\n",
    "rozmiar_oryginalny = os.path.getsize(nazwa_pliku)\n",
    "rozmiar_anonimizowany = os.path.getsize(nazwa_anonimizowana)\n",
    "print(f\"\\nRozmiar oryginalny: {rozmiar_oryginalny} bajtów\")\n",
    "print(f\"Rozmiar po anonimizacji: {rozmiar_anonimizowany} bajtów\")\n",
    "print(f\"Różnica: {rozmiar_oryginalny - rozmiar_anonimizowany} bajtów\")"
   ]
  },
  {
   "cell_type": "markdown",
   "id": "66ed00e3",
   "metadata": {},
   "source": [
    "## Sprawdzenie efektu anonimizacji"
   ]
  },
  {
   "cell_type": "code",
   "execution_count": 17,
   "id": "62eb73eb",
   "metadata": {},
   "outputs": [
    {
     "data": {
      "image/png": "[encoded data removed]",
      "text/plain": [
       "<Figure size 1000x400 with 2 Axes>"
      ]
     },
     "metadata": {},
     "output_type": "display_data"
    }
   ],
   "source": [
    "# Porównaj obrazy\n",
    "plt.figure(figsize=(10, 4))\n",
    "\n",
    "plt.subplot(1, 2, 1)\n",
    "plt.imshow(Image.open(nazwa_pliku))\n",
    "plt.title('Oryginalny')\n",
    "plt.axis('off')\n",
    "\n",
    "plt.subplot(1, 2, 2)\n",
    "plt.imshow(Image.open(nazwa_anonimizowana))\n",
    "plt.title('Po anonimizacji')\n",
    "plt.axis('off')\n",
    "\n",
    "plt.show()"
   ]
  },
  {
   "cell_type": "code",
   "execution_count": 18,
   "id": "121cf77d",
   "metadata": {},
   "outputs": [
    {
     "name": "stdout",
     "output_type": "stream",
     "text": [
      "Test - czy widzę ten tekst?\n",
      "Aktualna ścieżka: c:\\Users\\pawli\\OneDrive\\Pulpit\\E-media\n",
      "Pliki w folderze: ['.git', '.venv', 'gradient.png', 'gradient_analiza.png', 'gradient_pionowy.png', 'kod.py', 'kostki.png', 'kostki_anonim.png', 'kratka.png', 'kratka_analiza.png', 'kratka_anonim.png', 'kratka_fourier.png', 'kratka_fourier_plot.png', 'kwadrat.png', 'kwadrat_analiza.png', 'kwadrat_anonim.png', 'NewTux.png', 'NewTux_anonim.png', 'obraz.png', 'obrazy.py', 'obraz_anonim.png', 'obraz_fourier.png', 'obraz_fourier_plot.png', 'okrag.png', 'okrag_analiza.png', 'P1.ipynb', 'pasy_pionowe.png', 'pasy_pionowe_analiza.png', 'pasy_poziome.png', 'pasy_poziome_analiza.png', 'punkt.png', 'punkt_analiza.png', 'punkt_anonim.png', 'README.md', 'requirements.txt', 'sinus.png', 'sinus_82.png', 'sinus_82_anonim.png', 'sinus_analiza.png', 'sinus_anonim.png', 'synthetic_image.png', 'synthetic_image_anonim.png', 'szum.png', 'szum_analiza.png', 'test.py']\n"
     ]
    }
   ],
   "source": [
    "print(\"Test - czy widzę ten tekst?\")\n",
    "print(\"Aktualna ścieżka:\", os.getcwd())\n",
    "print(\"Pliki w folderze:\", os.listdir('.'))"
   ]
  }
 ],
 "metadata": {
  "kernelspec": {
   "display_name": ".venv",
   "language": "python",
   "name": "python3"
  },
  "language_info": {
   "codemirror_mode": {
    "name": "ipython",
    "version": 3
   },
   "file_extension": ".py",
   "mimetype": "text/x-python",
   "name": "python",
   "nbconvert_exporter": "python",
   "pygments_lexer": "ipython3",
   "version": "3.9.0"
  }
 },
 "nbformat": 4,
 "nbformat_minor": 5
}
